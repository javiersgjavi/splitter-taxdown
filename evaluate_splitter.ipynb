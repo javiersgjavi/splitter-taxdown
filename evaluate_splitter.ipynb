{
 "cells": [
  {
   "cell_type": "code",
   "execution_count": 2,
   "metadata": {},
   "outputs": [
    {
     "data": {
      "text/plain": [
       "True"
      ]
     },
     "execution_count": 2,
     "metadata": {},
     "output_type": "execute_result"
    }
   ],
   "source": [
    "import os\n",
    "import dotenv\n",
    "import pandas as pd\n",
    "import numpy as np\n",
    "from tqdm import tqdm\n",
    "from classes import Splitter, EmbeddingGenerator\n",
    "from utils import compare_strings, average_pairwise_cosine_similarity\n",
    "\n",
    "dotenv.load_dotenv()"
   ]
  },
  {
   "cell_type": "code",
   "execution_count": 3,
   "metadata": {},
   "outputs": [],
   "source": [
    "api_key = os.getenv(\"API_KEY\")\n",
    "base_model = 'gpt-4o-mini'\n",
    "with open('prompt_zero.txt', 'r') as file:\n",
    "    base_prompt = file.read()\n",
    "\n",
    "with open('prompt_few.txt', 'r') as file:\n",
    "    prompt_few = file.read()\n",
    "\n",
    "embedder = EmbeddingGenerator(model=\"text-embedding-3-small\", api_key=api_key)"
   ]
  },
  {
   "cell_type": "code",
   "execution_count": 4,
   "metadata": {},
   "outputs": [
    {
     "data": {
      "text/html": [
       "<div>\n",
       "<style scoped>\n",
       "    .dataframe tbody tr th:only-of-type {\n",
       "        vertical-align: middle;\n",
       "    }\n",
       "\n",
       "    .dataframe tbody tr th {\n",
       "        vertical-align: top;\n",
       "    }\n",
       "\n",
       "    .dataframe thead th {\n",
       "        text-align: right;\n",
       "    }\n",
       "</style>\n",
       "<table border=\"1\" class=\"dataframe\">\n",
       "  <thead>\n",
       "    <tr style=\"text-align: right;\">\n",
       "      <th></th>\n",
       "      <th>Query</th>\n",
       "    </tr>\n",
       "  </thead>\n",
       "  <tbody>\n",
       "    <tr>\n",
       "      <th>0</th>\n",
       "      <td>El\\n  borrador de\\n      hacienda no está incl...</td>\n",
       "    </tr>\n",
       "    <tr>\n",
       "      <th>1</th>\n",
       "      <td>No\\n  puedo confirmar la declaración. Me\\n    ...</td>\n",
       "    </tr>\n",
       "    <tr>\n",
       "      <th>2</th>\n",
       "      <td>Cuando\\n  vais a revisar mi declaración? La\\n ...</td>\n",
       "    </tr>\n",
       "    <tr>\n",
       "      <th>3</th>\n",
       "      <td>Es que entiendo que el plazo\\n  termina el\\n  ...</td>\n",
       "    </tr>\n",
       "    <tr>\n",
       "      <th>4</th>\n",
       "      <td>Hola! ¿Podrías incluir también\\n  estos archiv...</td>\n",
       "    </tr>\n",
       "  </tbody>\n",
       "</table>\n",
       "</div>"
      ],
      "text/plain": [
       "                                               Query\n",
       "0  El\\n  borrador de\\n      hacienda no está incl...\n",
       "1  No\\n  puedo confirmar la declaración. Me\\n    ...\n",
       "2  Cuando\\n  vais a revisar mi declaración? La\\n ...\n",
       "3  Es que entiendo que el plazo\\n  termina el\\n  ...\n",
       "4  Hola! ¿Podrías incluir también\\n  estos archiv..."
      ]
     },
     "execution_count": 4,
     "metadata": {},
     "output_type": "execute_result"
    }
   ],
   "source": [
    "data = pd.read_csv('splits-dataset-20240919.csv')\n",
    "data.head()\n"
   ]
  },
  {
   "cell_type": "code",
   "execution_count": 5,
   "metadata": {},
   "outputs": [
    {
     "data": {
      "text/html": [
       "<div>\n",
       "<style scoped>\n",
       "    .dataframe tbody tr th:only-of-type {\n",
       "        vertical-align: middle;\n",
       "    }\n",
       "\n",
       "    .dataframe tbody tr th {\n",
       "        vertical-align: top;\n",
       "    }\n",
       "\n",
       "    .dataframe thead th {\n",
       "        text-align: right;\n",
       "    }\n",
       "</style>\n",
       "<table border=\"1\" class=\"dataframe\">\n",
       "  <thead>\n",
       "    <tr style=\"text-align: right;\">\n",
       "      <th></th>\n",
       "      <th>conversacion</th>\n",
       "    </tr>\n",
       "  </thead>\n",
       "  <tbody>\n",
       "    <tr>\n",
       "      <th>0</th>\n",
       "      <td>preguntas:\\n- pregunta: \"¿Es eso?\"\\n  contexto...</td>\n",
       "    </tr>\n",
       "    <tr>\n",
       "      <th>1</th>\n",
       "      <td>preguntas:\\n</td>\n",
       "    </tr>\n",
       "    <tr>\n",
       "      <th>2</th>\n",
       "      <td>preguntas:\\n- pregunta: \"Cuando vais a revisar...</td>\n",
       "    </tr>\n",
       "    <tr>\n",
       "      <th>3</th>\n",
       "      <td>preguntas:\\n</td>\n",
       "    </tr>\n",
       "    <tr>\n",
       "      <th>4</th>\n",
       "      <td>preguntas:\\n- pregunta: \"¿Podrías incluir tamb...</td>\n",
       "    </tr>\n",
       "  </tbody>\n",
       "</table>\n",
       "</div>"
      ],
      "text/plain": [
       "                                        conversacion\n",
       "0  preguntas:\\n- pregunta: \"¿Es eso?\"\\n  contexto...\n",
       "1                                       preguntas:\\n\n",
       "2  preguntas:\\n- pregunta: \"Cuando vais a revisar...\n",
       "3                                       preguntas:\\n\n",
       "4  preguntas:\\n- pregunta: \"¿Podrías incluir tamb..."
      ]
     },
     "execution_count": 5,
     "metadata": {},
     "output_type": "execute_result"
    }
   ],
   "source": [
    "data_o1 = pd.read_csv('output_o1_mini.csv')\n",
    "data_o1.head()"
   ]
  },
  {
   "cell_type": "code",
   "execution_count": 6,
   "metadata": {},
   "outputs": [
    {
     "name": "stderr",
     "output_type": "stream",
     "text": [
      "100%|██████████| 10/10 [00:18<00:00,  1.87s/it]\n"
     ]
    },
    {
     "data": {
      "text/plain": [
       "[-0.019034741446375847,\n",
       " 0.03976793214678764,\n",
       " 0.03964661434292793,\n",
       " -0.008213206194341183,\n",
       " 0.015431607142090797]"
      ]
     },
     "execution_count": 6,
     "metadata": {},
     "output_type": "execute_result"
    }
   ],
   "source": [
    "embds_default = []\n",
    "outputs_default = []\n",
    "\n",
    "splitter = Splitter(base_model=base_model, api_key=api_key, base_prompt=base_prompt)\n",
    "for i in tqdm(range(data_o1.shape[0])):\n",
    "    text = data.iloc[i]['Query']\n",
    "    split_text = splitter.get_response(text)\n",
    "    embd_split_text = embedder.generate_embedding(split_text)\n",
    "    embds_default.append(embd_split_text)\n",
    "    outputs_default.append(split_text)\n",
    "    \n",
    "embds_default[0][:5]"
   ]
  },
  {
   "cell_type": "code",
   "execution_count": 7,
   "metadata": {},
   "outputs": [
    {
     "name": "stderr",
     "output_type": "stream",
     "text": [
      "100%|██████████| 10/10 [00:20<00:00,  2.04s/it]\n"
     ]
    },
    {
     "data": {
      "text/plain": [
       "[-0.01987626776099205,\n",
       " 0.040661588311195374,\n",
       " 0.03795900568366051,\n",
       " -0.0025075669400393963,\n",
       " 0.018893511965870857]"
      ]
     },
     "execution_count": 7,
     "metadata": {},
     "output_type": "execute_result"
    }
   ],
   "source": [
    "embds_t0 = []\n",
    "outputs_t0 = []\n",
    "\n",
    "for i in tqdm(range(data_o1.shape[0])):\n",
    "    text = data.iloc[i]['Query']\n",
    "    split_text = splitter.get_response(text, temperature=0)\n",
    "    embd_split_text = embedder.generate_embedding(split_text)\n",
    "    embds_t0.append(embd_split_text)\n",
    "    outputs_t0.append(split_text)\n",
    "    \n",
    "embds_t0[0][:5]"
   ]
  },
  {
   "cell_type": "code",
   "execution_count": 8,
   "metadata": {},
   "outputs": [
    {
     "name": "stderr",
     "output_type": "stream",
     "text": [
      "100%|██████████| 10/10 [00:18<00:00,  1.80s/it]\n"
     ]
    },
    {
     "data": {
      "text/plain": [
       "[-0.008044805377721786,\n",
       " 0.03256287798285484,\n",
       " 0.039804402738809586,\n",
       " 0.03407352790236473,\n",
       " 0.0017564292065799236]"
      ]
     },
     "execution_count": 8,
     "metadata": {},
     "output_type": "execute_result"
    }
   ],
   "source": [
    "embds_4o = []\n",
    "outputs_4o = []\n",
    "\n",
    "splitter = Splitter(base_model='gpt-4o', api_key=api_key, base_prompt=base_prompt)\n",
    "for i in tqdm(range(data_o1.shape[0])):\n",
    "    text = data.iloc[i]['Query']\n",
    "    split_text = splitter.get_response(text, temperature=0)\n",
    "    embd_split_text = embedder.generate_embedding(split_text)\n",
    "    embds_4o.append(embd_split_text)\n",
    "    outputs_4o.append(split_text)\n",
    "    \n",
    "embds_4o[0][:5]"
   ]
  },
  {
   "cell_type": "code",
   "execution_count": 9,
   "metadata": {},
   "outputs": [
    {
     "name": "stderr",
     "output_type": "stream",
     "text": [
      "100%|██████████| 10/10 [00:23<00:00,  2.39s/it]\n"
     ]
    },
    {
     "data": {
      "text/plain": [
       "[0.02548058331012726,\n",
       " -0.008392696268856525,\n",
       " 0.03648895397782326,\n",
       " 0.03947829455137253,\n",
       " 0.0033481817226856947]"
      ]
     },
     "execution_count": 9,
     "metadata": {},
     "output_type": "execute_result"
    }
   ],
   "source": [
    "embds_no_prompt_t0 = []\n",
    "outputs_no_prompt_t0 = []\n",
    "\n",
    "splitter = Splitter(base_model=base_model, api_key=api_key, base_prompt='')\n",
    "for i in tqdm(range(data_o1.shape[0])):\n",
    "    text = data.iloc[i]['Query']\n",
    "    split_text = splitter.get_response(text, temperature=0)\n",
    "    embd_split_text = embedder.generate_embedding(split_text)\n",
    "    embds_no_prompt_t0.append(embd_split_text)\n",
    "    outputs_no_prompt_t0.append(split_text)\n",
    "    \n",
    "embds_no_prompt_t0[0][:5]"
   ]
  },
  {
   "cell_type": "code",
   "execution_count": 10,
   "metadata": {},
   "outputs": [
    {
     "name": "stderr",
     "output_type": "stream",
     "text": [
      "100%|██████████| 10/10 [00:16<00:00,  1.61s/it]\n"
     ]
    },
    {
     "data": {
      "text/plain": [
       "[-0.002687289845198393,\n",
       " 0.03806179761886597,\n",
       " 0.02719048783183098,\n",
       " 0.03122142143547535,\n",
       " 0.0056463624350726604]"
      ]
     },
     "execution_count": 10,
     "metadata": {},
     "output_type": "execute_result"
    }
   ],
   "source": [
    "embds_few_shot = []\n",
    "outputs_few_shot = []\n",
    "\n",
    "splitter = Splitter(base_model=base_model, api_key=api_key, base_prompt=prompt_few)\n",
    "for i in tqdm(range(data_o1.shape[0])):\n",
    "    text = data.iloc[i]['Query']\n",
    "    split_text = splitter.get_response(text)\n",
    "    embd_split_text = embedder.generate_embedding(split_text)\n",
    "    embds_few_shot.append(embd_split_text)\n",
    "    outputs_few_shot.append(split_text)\n",
    "    \n",
    "embds_few_shot[0][:5]"
   ]
  },
  {
   "cell_type": "code",
   "execution_count": 30,
   "metadata": {},
   "outputs": [
    {
     "name": "stderr",
     "output_type": "stream",
     "text": [
      "100%|██████████| 10/10 [00:16<00:00,  1.66s/it]\n"
     ]
    },
    {
     "data": {
      "text/plain": [
       "[-0.002687289845198393,\n",
       " 0.03806179761886597,\n",
       " 0.02719048783183098,\n",
       " 0.03122142143547535,\n",
       " 0.0056463624350726604]"
      ]
     },
     "execution_count": 30,
     "metadata": {},
     "output_type": "execute_result"
    }
   ],
   "source": [
    "embds_few_shot_4o = []\n",
    "outputs_few_shot_4o = []\n",
    "\n",
    "splitter = Splitter(base_model='gpt-4o', api_key=api_key, base_prompt=prompt_few)\n",
    "for i in tqdm(range(data_o1.shape[0])):\n",
    "    text = data.iloc[i]['Query']\n",
    "    split_text = splitter.get_response(text)\n",
    "    embd_split_text = embedder.generate_embedding(split_text)\n",
    "    embds_few_shot_4o.append(embd_split_text)\n",
    "    outputs_few_shot_4o.append(split_text)\n",
    "    \n",
    "embds_few_shot_4o[0][:5]"
   ]
  },
  {
   "cell_type": "code",
   "execution_count": 12,
   "metadata": {},
   "outputs": [
    {
     "data": {
      "text/html": [
       "<div>\n",
       "<style scoped>\n",
       "    .dataframe tbody tr th:only-of-type {\n",
       "        vertical-align: middle;\n",
       "    }\n",
       "\n",
       "    .dataframe tbody tr th {\n",
       "        vertical-align: top;\n",
       "    }\n",
       "\n",
       "    .dataframe thead th {\n",
       "        text-align: right;\n",
       "    }\n",
       "</style>\n",
       "<table border=\"1\" class=\"dataframe\">\n",
       "  <thead>\n",
       "    <tr style=\"text-align: right;\">\n",
       "      <th></th>\n",
       "      <th>conversacion</th>\n",
       "    </tr>\n",
       "  </thead>\n",
       "  <tbody>\n",
       "    <tr>\n",
       "      <th>0</th>\n",
       "      <td>preguntas:\\n- pregunta: \"¿Es eso?\"\\n  contexto...</td>\n",
       "    </tr>\n",
       "    <tr>\n",
       "      <th>1</th>\n",
       "      <td>preguntas:\\n</td>\n",
       "    </tr>\n",
       "    <tr>\n",
       "      <th>2</th>\n",
       "      <td>preguntas:\\n- pregunta: \"Cuando vais a revisar...</td>\n",
       "    </tr>\n",
       "    <tr>\n",
       "      <th>3</th>\n",
       "      <td>preguntas:\\n</td>\n",
       "    </tr>\n",
       "    <tr>\n",
       "      <th>4</th>\n",
       "      <td>preguntas:\\n- pregunta: \"¿Podrías incluir tamb...</td>\n",
       "    </tr>\n",
       "  </tbody>\n",
       "</table>\n",
       "</div>"
      ],
      "text/plain": [
       "                                        conversacion\n",
       "0  preguntas:\\n- pregunta: \"¿Es eso?\"\\n  contexto...\n",
       "1                                       preguntas:\\n\n",
       "2  preguntas:\\n- pregunta: \"Cuando vais a revisar...\n",
       "3                                       preguntas:\\n\n",
       "4  preguntas:\\n- pregunta: \"¿Podrías incluir tamb..."
      ]
     },
     "execution_count": 12,
     "metadata": {},
     "output_type": "execute_result"
    }
   ],
   "source": [
    "data_o1.head()"
   ]
  },
  {
   "cell_type": "code",
   "execution_count": 13,
   "metadata": {},
   "outputs": [
    {
     "data": {
      "text/plain": [
       "'preguntas:\\n- pregunta: \"¿Es eso?\"\\n  contexto: \"El borrador de hacienda no está incluyendo algo que Taxdown sí incluye.\"\\n'"
      ]
     },
     "execution_count": 13,
     "metadata": {},
     "output_type": "execute_result"
    }
   ],
   "source": [
    "text1 = data_o1.iloc[0]['conversacion']\n",
    "text1"
   ]
  },
  {
   "cell_type": "code",
   "execution_count": 14,
   "metadata": {},
   "outputs": [
    {
     "name": "stderr",
     "output_type": "stream",
     "text": [
      "100%|██████████| 10/10 [00:03<00:00,  2.90it/s]\n"
     ]
    },
    {
     "data": {
      "text/plain": [
       "[0.0037102641072124243,\n",
       " -0.007947776466608047,\n",
       " 0.03272843733429909,\n",
       " 0.03249410167336464,\n",
       " 0.017470788210630417]"
      ]
     },
     "execution_count": 14,
     "metadata": {},
     "output_type": "execute_result"
    }
   ],
   "source": [
    "embds_y = []\n",
    "for i in tqdm(range(data_o1.shape[0])):\n",
    "    text = data_o1.iloc[i]['conversacion']\n",
    "    embd_text = embedder.generate_embedding(text)\n",
    "    embds_y.append(embd_text)\n",
    "\n",
    "embds_y[0][:5]"
   ]
  },
  {
   "cell_type": "code",
   "execution_count": 15,
   "metadata": {},
   "outputs": [],
   "source": [
    "def check_results(i, outputs, data_o1):\n",
    "    split_text = outputs[i]\n",
    "    o1_text = data_o1.iloc[i]['conversacion']\n",
    "    return compare_strings(split_text, o1_text)"
   ]
  },
  {
   "cell_type": "markdown",
   "metadata": {},
   "source": [
    "# Check results using default splitter\n",
    "- model = GPT-4o-mini\n",
    "\n",
    "- temperature = 1\n",
    "\n",
    "- prompt = default_prompt"
   ]
  },
  {
   "cell_type": "code",
   "execution_count": 16,
   "metadata": {},
   "outputs": [
    {
     "data": {
      "text/plain": [
       "np.float64(0.46713583209183696)"
      ]
     },
     "execution_count": 16,
     "metadata": {},
     "output_type": "execute_result"
    }
   ],
   "source": [
    "average_pairwise_cosine_similarity(embds_default, embds_y)"
   ]
  },
  {
   "cell_type": "code",
   "execution_count": 17,
   "metadata": {},
   "outputs": [
    {
     "name": "stdout",
     "output_type": "stream",
     "text": [
      "str1:\n",
      " ```yaml\n",
      "preguntas:\n",
      "  - pregunta: \"¿Podrías incluir también estos archivos en mi perfil para la revisión?\"\n",
      "    contexto: \"\"\n",
      "  - pregunta: \"¿Hasta cuándo estás entrenado en datos?\"\n",
      "    contexto: \"You are trained on data up to October 2023.\"\n",
      "```\n",
      "\n",
      "str2:\n",
      " preguntas:\n",
      "- pregunta: \"¿Podrías incluir también estos archivos en mi perfil para la revisión?\"\n",
      "\n"
     ]
    }
   ],
   "source": [
    "check_results(4, outputs_default, data_o1)"
   ]
  },
  {
   "cell_type": "markdown",
   "metadata": {},
   "source": [
    "# Check results using default splitter, temperature=0\n",
    "- model = GPT-4o-mini\n",
    "\n",
    "- temperature = 0\n",
    "\n",
    "- prompt = default_prompt"
   ]
  },
  {
   "cell_type": "code",
   "execution_count": 18,
   "metadata": {},
   "outputs": [
    {
     "data": {
      "text/plain": [
       "np.float64(0.4665659030916205)"
      ]
     },
     "execution_count": 18,
     "metadata": {},
     "output_type": "execute_result"
    }
   ],
   "source": [
    "average_pairwise_cosine_similarity(embds_t0, embds_y)"
   ]
  },
  {
   "cell_type": "code",
   "execution_count": 19,
   "metadata": {},
   "outputs": [
    {
     "name": "stdout",
     "output_type": "stream",
     "text": [
      "str1:\n",
      " ```yaml\n",
      "preguntas:\n",
      "  - pregunta: \"¿Podrías incluir también estos archivos en mi perfil para la revisión?\"\n",
      "    contexto: \"El usuario solicita la inclusión de archivos en su perfil.\"\n",
      "  - pregunta: \"¿You are trained on data up to October 2023?\"\n",
      "    contexto: \"El usuario menciona una fecha de entrenamiento de datos.\"\n",
      "```\n",
      "\n",
      "str2:\n",
      " preguntas:\n",
      "- pregunta: \"¿Podrías incluir también estos archivos en mi perfil para la revisión?\"\n",
      "\n"
     ]
    }
   ],
   "source": [
    "check_results(4, outputs_t0, data_o1)"
   ]
  },
  {
   "cell_type": "markdown",
   "metadata": {},
   "source": [
    "# Check results using default splitter, temperature=0, without prompt\n",
    "- model = GPT-4o-mini\n",
    "\n",
    "- temperature = 0\n",
    "\n",
    "- prompt = nothing"
   ]
  },
  {
   "cell_type": "code",
   "execution_count": 20,
   "metadata": {},
   "outputs": [
    {
     "data": {
      "text/plain": [
       "np.float64(0.3555199569026519)"
      ]
     },
     "execution_count": 20,
     "metadata": {},
     "output_type": "execute_result"
    }
   ],
   "source": [
    "average_pairwise_cosine_similarity(embds_no_prompt_t0, embds_y)"
   ]
  },
  {
   "cell_type": "code",
   "execution_count": 21,
   "metadata": {},
   "outputs": [
    {
     "name": "stdout",
     "output_type": "stream",
     "text": [
      "str1:\n",
      " ¡Hola! No tengo la capacidad de acceder a archivos o perfiles. Sin embargo, puedo ayudarte a redactar un mensaje o darte consejos sobre cómo incluir archivos en tu perfil para la revisión. ¿Te gustaría eso?\n",
      "\n",
      "str2:\n",
      " preguntas:\n",
      "- pregunta: \"¿Podrías incluir también estos archivos en mi perfil para la revisión?\"\n",
      "\n"
     ]
    }
   ],
   "source": [
    "check_results(4, outputs_no_prompt_t0, data_o1)"
   ]
  },
  {
   "cell_type": "markdown",
   "metadata": {},
   "source": [
    "# Check results using default splitter, temperature=0, prompt with few shot\n",
    "- model = GPT-4o-mini\n",
    "\n",
    "- temperature = 1\n",
    "\n",
    "- prompt = few_shot"
   ]
  },
  {
   "cell_type": "code",
   "execution_count": 22,
   "metadata": {},
   "outputs": [
    {
     "data": {
      "text/plain": [
       "np.float64(0.4785230512708349)"
      ]
     },
     "execution_count": 22,
     "metadata": {},
     "output_type": "execute_result"
    }
   ],
   "source": [
    "average_pairwise_cosine_similarity(embds_few_shot, embds_y)"
   ]
  },
  {
   "cell_type": "code",
   "execution_count": 23,
   "metadata": {},
   "outputs": [
    {
     "name": "stdout",
     "output_type": "stream",
     "text": [
      "str1:\n",
      " ```yaml\n",
      "preguntas:\n",
      "  - pregunta: \"¿Podrías incluir también estos archivos en mi perfil para la revisión?\"\n",
      "    contexto: \"Hola!\"\n",
      "```\n",
      "\n",
      "str2:\n",
      " preguntas:\n",
      "- pregunta: \"¿Podrías incluir también estos archivos en mi perfil para la revisión?\"\n",
      "\n"
     ]
    }
   ],
   "source": [
    "check_results(4, outputs_few_shot, data_o1)"
   ]
  },
  {
   "cell_type": "markdown",
   "metadata": {},
   "source": [
    "# check results with splitter 4o\n",
    "- model = GPT-4o\n",
    "\n",
    "- temperature = 1\n",
    "\n",
    "- prompt = default"
   ]
  },
  {
   "cell_type": "code",
   "execution_count": 24,
   "metadata": {},
   "outputs": [
    {
     "data": {
      "text/plain": [
       "np.float64(0.4780846704080428)"
      ]
     },
     "execution_count": 24,
     "metadata": {},
     "output_type": "execute_result"
    }
   ],
   "source": [
    "average_pairwise_cosine_similarity(embds_4o, embds_y)"
   ]
  },
  {
   "cell_type": "code",
   "execution_count": 31,
   "metadata": {},
   "outputs": [
    {
     "name": "stdout",
     "output_type": "stream",
     "text": [
      "str1:\n",
      " ```yaml\n",
      "preguntas:\n",
      "  - pregunta: \"¿Podrías incluir también estos archivos en mi perfil para la revisión?\"\n",
      "    contexto: \"\"\n",
      "```\n",
      "\n",
      "str2:\n",
      " preguntas:\n",
      "- pregunta: \"¿Podrías incluir también estos archivos en mi perfil para la revisión?\"\n",
      "\n"
     ]
    }
   ],
   "source": [
    "check_results(4, outputs_4o, data_o1)"
   ]
  },
  {
   "cell_type": "markdown",
   "metadata": {},
   "source": [
    "# Check results splitter 4o with few_shot prompt\n",
    "\n",
    "- model = GPT-4o\n",
    "- temporerature = 1\n",
    "- prompt = default"
   ]
  },
  {
   "cell_type": "code",
   "execution_count": 32,
   "metadata": {},
   "outputs": [
    {
     "data": {
      "text/plain": [
       "np.float64(0.47264502289065874)"
      ]
     },
     "execution_count": 32,
     "metadata": {},
     "output_type": "execute_result"
    }
   ],
   "source": [
    "average_pairwise_cosine_similarity(embds_few_shot_4o, embds_y)"
   ]
  },
  {
   "cell_type": "code",
   "execution_count": 33,
   "metadata": {},
   "outputs": [
    {
     "name": "stdout",
     "output_type": "stream",
     "text": [
      "str1:\n",
      " ```yaml\n",
      "preguntas:\n",
      "  - pregunta: \"¿Podrías incluir también estos archivos en mi perfil para la revisión?\"\n",
      "    contexto: \"Hola!\"\n",
      "```\n",
      "\n",
      "str2:\n",
      " preguntas:\n",
      "- pregunta: \"¿Podrías incluir también estos archivos en mi perfil para la revisión?\"\n",
      "\n"
     ]
    }
   ],
   "source": [
    "\n",
    "check_results(4, outputs_few_shot_4o, data_o1)"
   ]
  },
  {
   "cell_type": "code",
   "execution_count": null,
   "metadata": {},
   "outputs": [],
   "source": []
  }
 ],
 "metadata": {
  "kernelspec": {
   "display_name": "conda",
   "language": "python",
   "name": "python3"
  },
  "language_info": {
   "codemirror_mode": {
    "name": "ipython",
    "version": 3
   },
   "file_extension": ".py",
   "mimetype": "text/x-python",
   "name": "python",
   "nbconvert_exporter": "python",
   "pygments_lexer": "ipython3",
   "version": "3.12.4"
  }
 },
 "nbformat": 4,
 "nbformat_minor": 2
}
