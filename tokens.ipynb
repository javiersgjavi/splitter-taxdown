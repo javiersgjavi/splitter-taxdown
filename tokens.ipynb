{
 "cells": [
  {
   "cell_type": "code",
   "execution_count": 4,
   "metadata": {},
   "outputs": [
    {
     "data": {
      "text/html": [
       "<div>\n",
       "<style scoped>\n",
       "    .dataframe tbody tr th:only-of-type {\n",
       "        vertical-align: middle;\n",
       "    }\n",
       "\n",
       "    .dataframe tbody tr th {\n",
       "        vertical-align: top;\n",
       "    }\n",
       "\n",
       "    .dataframe thead th {\n",
       "        text-align: right;\n",
       "    }\n",
       "</style>\n",
       "<table border=\"1\" class=\"dataframe\">\n",
       "  <thead>\n",
       "    <tr style=\"text-align: right;\">\n",
       "      <th></th>\n",
       "      <th>Query</th>\n",
       "    </tr>\n",
       "  </thead>\n",
       "  <tbody>\n",
       "    <tr>\n",
       "      <th>0</th>\n",
       "      <td>El\\n  borrador de\\n      hacienda no está incl...</td>\n",
       "    </tr>\n",
       "    <tr>\n",
       "      <th>1</th>\n",
       "      <td>No\\n  puedo confirmar la declaración. Me\\n    ...</td>\n",
       "    </tr>\n",
       "    <tr>\n",
       "      <th>2</th>\n",
       "      <td>Cuando\\n  vais a revisar mi declaración? La\\n ...</td>\n",
       "    </tr>\n",
       "    <tr>\n",
       "      <th>3</th>\n",
       "      <td>Es que entiendo que el plazo\\n  termina el\\n  ...</td>\n",
       "    </tr>\n",
       "    <tr>\n",
       "      <th>4</th>\n",
       "      <td>Hola! ¿Podrías incluir también\\n  estos archiv...</td>\n",
       "    </tr>\n",
       "  </tbody>\n",
       "</table>\n",
       "</div>"
      ],
      "text/plain": [
       "                                               Query\n",
       "0  El\\n  borrador de\\n      hacienda no está incl...\n",
       "1  No\\n  puedo confirmar la declaración. Me\\n    ...\n",
       "2  Cuando\\n  vais a revisar mi declaración? La\\n ...\n",
       "3  Es que entiendo que el plazo\\n  termina el\\n  ...\n",
       "4  Hola! ¿Podrías incluir también\\n  estos archiv..."
      ]
     },
     "execution_count": 4,
     "metadata": {},
     "output_type": "execute_result"
    }
   ],
   "source": [
    "import pandas as pd\n",
    "import tiktoken\n",
    "import numpy as np\n",
    "\n",
    "encoder = tiktoken.encoding_for_model('gpt-4o')\n",
    "data = pd.read_csv('splits-dataset-20240919.csv')\n",
    "data.head()"
   ]
  },
  {
   "cell_type": "code",
   "execution_count": 5,
   "metadata": {},
   "outputs": [
    {
     "name": "stdout",
     "output_type": "stream",
     "text": [
      "119.015625\n"
     ]
    }
   ],
   "source": [
    "n_samples = data.shape[0]\n",
    "\n",
    "n_tokens = []\n",
    "for i in range(n_samples):\n",
    "    text = data.iloc[i]['Query']\n",
    "    n_tokens.append(len(encoder.encode(text)))\n",
    "\n",
    "print(np.mean(n_tokens))"
   ]
  },
  {
   "cell_type": "code",
   "execution_count": 6,
   "metadata": {},
   "outputs": [
    {
     "name": "stdout",
     "output_type": "stream",
     "text": [
      "350\n"
     ]
    }
   ],
   "source": [
    "with open('prompt_few.txt', 'r') as f:\n",
    "    prompt = f.read()\n",
    "\n",
    "print(len(encoder.encode(prompt)))"
   ]
  },
  {
   "cell_type": "code",
   "execution_count": 12,
   "metadata": {},
   "outputs": [
    {
     "name": "stdout",
     "output_type": "stream",
     "text": [
      "33.9\n"
     ]
    }
   ],
   "source": [
    "output_data = pd.read_csv('output_o1_mini.csv')\n",
    "n_tokens_output = []\n",
    "for i in range(output_data.shape[0]):\n",
    "    text = output_data.iloc[i]['conversacion']\n",
    "    n_tokens_output.append(len(encoder.encode(text)))\n",
    "\n",
    "print(np.mean(n_tokens_output))"
   ]
  },
  {
   "cell_type": "code",
   "execution_count": 13,
   "metadata": {},
   "outputs": [
    {
     "name": "stdout",
     "output_type": "stream",
     "text": [
      "469 34\n"
     ]
    }
   ],
   "source": [
    "in_tokens = 119+350\n",
    "out_tokens = 34\n",
    "\n",
    "print(in_tokens, out_tokens)"
   ]
  },
  {
   "cell_type": "code",
   "execution_count": 14,
   "metadata": {},
   "outputs": [
    {
     "name": "stdout",
     "output_type": "stream",
     "text": [
      "7.035e-05 2.0399999999999998e-05 9.075e-05\n"
     ]
    }
   ],
   "source": [
    "precio_in = 0.15/1e6\n",
    "precio_out = 0.6/1e6\n",
    "\n",
    "in_total = in_tokens*precio_in\n",
    "out_total = out_tokens*precio_out\n",
    "print(in_total, out_total, in_total+out_total)"
   ]
  },
  {
   "cell_type": "code",
   "execution_count": null,
   "metadata": {},
   "outputs": [],
   "source": []
  }
 ],
 "metadata": {
  "kernelspec": {
   "display_name": "conda",
   "language": "python",
   "name": "python3"
  },
  "language_info": {
   "codemirror_mode": {
    "name": "ipython",
    "version": 3
   },
   "file_extension": ".py",
   "mimetype": "text/x-python",
   "name": "python",
   "nbconvert_exporter": "python",
   "pygments_lexer": "ipython3",
   "version": "3.12.4"
  }
 },
 "nbformat": 4,
 "nbformat_minor": 2
}
